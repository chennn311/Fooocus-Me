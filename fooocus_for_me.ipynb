{
  "cells": [
    {
      "cell_type": "code",
      "execution_count": null,
      "metadata": {
        "id": "zV9vMIYIGA1d",
        "cellView": "form"
      },
      "outputs": [],
      "source": [
        "# @title ###⚠️ Jalankan Ini [Android] ⚠️\n",
        "%%html\n",
        "<center><font color=\"#CC3E3E\" size=\"4\">⚠️ <u><b>!! <font color=\"#FFD700\" size=\"4\">WAJIB JALANKAN INI</font> !!</b></u> ⚠️</font></center>\n",
        "<center><font color=\"#3B3B3B\" size=\"2\">Tekan putar di pemutar musik agar Halaman ini tetap berjalan dan tidak disconnect, lalu mulai Jalankan Instalasi Stbale diffusion (Hanya menggunakan data 13MB)</font></center><br/><br/>\n",
        "<center><audio src=\"https://huggingface.co/datasets/AI-C/Data-File/resolve/main/silence.m4a\" controls></center>"
      ]
    },
    {
      "cell_type": "code",
      "execution_count": null,
      "metadata": {
        "id": "VjYy0F2gZIPR"
      },
      "outputs": [],
      "source": [
        "# @title Inti\n",
        "!pip install pygit2==1.12.2\n",
        "!pip install aria2\n",
        "%cd /content\n",
        "!git clone https://github.com/chennn311/Fooocus-Me.git\n",
        "\n",
        "#Download Models\n",
        "%cd /content/Fooocus-Me/models/checkpoints\n",
        "!aria2c --console-log-level=error -c -x 16 -s 16 -k 1M https://huggingface.co/Chen311/SDXL-Models/resolve/main/dreamshaperXL_turboDpmppSDE.safetensors?download=true   -o dreamshaperXL_turboDpmppSDE.safetensors\n",
        "!aria2c --console-log-level=error -c -x 16 -s 16 -k 1M https://huggingface.co/dataautogpt3/OpenDalleV1.1/resolve/main/OpenDalleV1.1.safetensors?download=true -o OpenDalleV1.1.safetensors\n",
        "!aria2c --console-log-level=error -c -x 16 -s 16 -k 1M https://huggingface.co/Chen311/SDXL-Models/resolve/main/realvisxlV30_v30Bakedvae.safetensors?download=true -o realvisxlV30_v30Bakedvae.safetensors\n",
        "\n",
        "#Download Lora\n",
        "#%cd /content/Fooocus-Me/models/loras\n",
        "#!aria2c --console-log-level=error -c -x 16 -s 16 -k 1M\n",
        "\n",
        "%cd /content/Fooocus-Me\n",
        "!python entry_with_update.py --share\n"
      ]
    }
  ],
  "metadata": {
    "accelerator": "GPU",
    "colab": {
      "provenance": []
    },
    "kernelspec": {
      "display_name": "Python 3",
      "name": "python3"
    },
    "language_info": {
      "name": "python"
    }
  },
  "nbformat": 4,
  "nbformat_minor": 0
}