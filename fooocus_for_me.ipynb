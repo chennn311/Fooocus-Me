{
  "cells": [
    {
      "cell_type": "code",
      "execution_count": null,
      "metadata": {
        "id": "zV9vMIYIGA1d"
      },
      "outputs": [],
      "source": [
        "# @title ###⚠️ Jalankan Ini [Android] ⚠️\n",
        "%%html\n",
        "<center><font color=\"#CC3E3E\" size=\"4\">⚠️ <u><b>!! <font color=\"#FFD700\" size=\"4\">WAJIB JALANKAN INI</font> !!</b></u> ⚠️</font></center>\n",
        "<center><font color=\"#3B3B3B\" size=\"2\">Tekan putar di pemutar musik agar Halaman ini tetap berjalan dan tidak disconnect, lalu mulai Jalankan Instalasi Stbale diffusion (Hanya menggunakan data 13MB)</font></center><br/><br/>\n",
        "<center><audio src=\"https://huggingface.co/datasets/AI-C/Data-File/resolve/main/silence.m4a\" controls></center>"
      ]
    },
    {
      "cell_type": "code",
      "execution_count": null,
      "metadata": {
        "id": "VjYy0F2gZIPR"
      },
      "outputs": [],
      "source": [
        "# @title Inti\n",
        "!pip install pygit2==1.12.2\n",
        "%cd /content\n",
        "!git clone https://github.com/chennn311/Fooocus-Me.git\n",
        "%cd /content/Fooocus-Me\n",
        "!python entry_with_update.py --default --share\n"
      ]
    }
  ],
  "metadata": {
    "accelerator": "GPU",
    "colab": {
      "provenance": []
    },
    "kernelspec": {
      "display_name": "Python 3",
      "name": "python3"
    },
    "language_info": {
      "name": "python"
    }
  },
  "nbformat": 4,
  "nbformat_minor": 0
}